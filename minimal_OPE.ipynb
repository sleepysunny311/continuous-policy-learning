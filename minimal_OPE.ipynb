{
 "cells": [
  {
   "cell_type": "code",
   "execution_count": 1,
   "metadata": {},
   "outputs": [
    {
     "data": {
      "application/javascript": "if (!(\"Notification\" in window)) {\n    alert(\"This browser does not support desktop notifications, so the %%notify magic will not work.\");\n} else if (Notification.permission !== 'granted' && Notification.permission !== 'denied') {\n    Notification.requestPermission(function (permission) {\n        if(!('permission' in Notification)) {\n            Notification.permission = permission;\n        }\n    })\n}\n",
      "text/plain": [
       "<IPython.core.display.Javascript object>"
      ]
     },
     "metadata": {},
     "output_type": "display_data"
    },
    {
     "name": "stderr",
     "output_type": "stream",
     "text": [
      "/Users/az/anaconda/lib/python2.7/site-packages/sklearn/cross_validation.py:44: DeprecationWarning: This module was deprecated in version 0.18 in favor of the model_selection module into which all the refactored classes and functions are moved. Also note that the interface of the new CV iterators are different from that of this module. This module will be removed in 0.20.\n",
      "  \"This module will be removed in 0.20.\", DeprecationWarning)\n",
      "/Users/az/anaconda/lib/python2.7/site-packages/sklearn/grid_search.py:43: DeprecationWarning: This module was deprecated in version 0.18 in favor of the model_selection module into which all the refactored classes and functions are moved. This module will be removed in 0.20.\n",
      "  DeprecationWarning)\n"
     ]
    }
   ],
   "source": [
    "import jupyternotify\n",
    "ip = get_ipython()\n",
    "ip.register_magics(jupyternotify.JupyterNotifyMagics)\n",
    "from off_pol_eval_functions import * \n",
    "from sklearn.linear_model import LinearRegression\n"
   ]
  },
  {
   "cell_type": "code",
   "execution_count": 2,
   "metadata": {},
   "outputs": [],
   "source": [
    "%matplotlib inline \n",
    "import matplotlib.pyplot as plt\n",
    "import numpy as np \n",
    "# from off_pol_eval_functions import * \n",
    "\n",
    "\n",
    "from scipy.optimize import minimize\n",
    "import datetime as datetime\n",
    "import pickle\n",
    "from matplotlib.backends.backend_pdf import PdfPages\n",
    "from matplotlib import collections as matcoll\n",
    "from sklearn import svm\n",
    "import sys\n",
    "from sklearn.linear_model import LinearRegression\n",
    "from scipy.stats import norm\n",
    "\n",
    "np.random.seed(2)\n",
    "\n",
    "\n",
    "d = 10  # dimension of x \n",
    "n = 1500; \n",
    "mu_x = np.zeros(d); \n",
    "sigma_x = np.random.normal(size = (d,1))\n",
    "sigma_x += np.abs(np.min(sigma_x))+0.5\n",
    "sigma_x = np.multiply(sigma_x, np.eye(d))\n",
    "sigma_x /= 2# normalize covariances a little bit \n",
    "\n",
    "W = 1.5 #treatment effect\n",
    "# interact_x = 2\n",
    "white_noise_coef = 0.1\n",
    "\n",
    "# # generate propensity model \n",
    "# def real_prop(x, beta_prop): \n",
    "#     T_SIG = 5\n",
    "#     if len(x.shape) > 1: \n",
    "#         n= x.shape[1]\n",
    "#     else:\n",
    "#         n= len(x)\n",
    "#     return np.dot(x, beta_prop) + np.random.normal(size = (n,1))*T_SIG\n",
    "#     # T is normally distributed conditional on covariates \n",
    "    \n",
    "# # coefficient of treatment effect\n",
    "# beta_cons = -5\n",
    "# beta_x = np.random.normal(size = (d,1))\n",
    "# # interaction term with treatment \n",
    "# beta_x_T = np.random.normal(size = (d,1))*1.5\n",
    "\n",
    "# # sparse interaction terms \n",
    "# sparse_entries = np.random.choice(range(d),size =  int(round(0.7*d)),replace = False)\n",
    "# beta_x_T[sparse_entries] = 0     \n",
    "# sparse_entries = np.random.choice(range(d),size =  int(round(0.35*d)),replace = False)\n",
    "# beta_x[sparse_entries] = 0  \n",
    "\n",
    "# FREQ = 20 \n",
    "# beta_x_quad_T = np.random.normal(size = (d,1))*0.2\n",
    "# sparse_entries = np.random.choice(range(d),size =  int(round(0.6*d)),replace = False)\n",
    "# beta_x_quad_T[sparse_entries] = 0\n",
    "\n",
    "# TRUE_PROP_BETA = np.asarray(beta_x_quad_T + np.random.normal( loc= np.ones((d,1))*2, size = (d,1))).flatten()\n",
    "# print TRUE_PROP_BETA\n",
    "# def real_risk(T, beta_cons, beta_x, beta_x_T, beta_x_quad_T, x):    \n",
    "#     n = len(T); risk = np.zeros(n)\n",
    "#     if np.isscalar(T):\n",
    "#         risk = T*beta_cons + np.dot(beta_x.T, x) + np.dot(beta_x_T.T, x*T) + (T-np.dot(beta_x_quad_T.T,x))**2\n",
    "#     else: \n",
    "#         for i in range(len(T)): \n",
    "#             risk[i] = T[i]*beta_cons + np.dot(beta_x.T, x[i,:]) + np.dot(beta_x_T.T, x[i,:]*T[i]) + (T[i]-np.dot(beta_x_quad_T.T,x[i,:]))**2#+ np.dot(beta_x_quad_T.T, (x[i,:]**2)*T[i]) + np.dot(beta_x_high_freq.T, np.sin(x[i,0:HIGH_FREQ_N]*FREQ)*T[i])\n",
    "#     return risk\n",
    "\n",
    "# T_SIG = 4\n",
    "# def generate_data(mu_x, sigma_x_mat, n, beta_cons, beta_x, beta_x_T): \n",
    "# #     x = np.random.normal(mu_x, sigma_x, size = n)\n",
    "#     # generate n datapoints from the same multivariate normal distribution\n",
    "#     x = np.random.multivariate_normal(mean = mu_x, cov= sigma_x_mat, size = n ) \n",
    "#     print x.shape \n",
    "#     print \"xshape\"\n",
    "#     T = np.random.normal(0, T_SIG, n) + np.dot(x, TRUE_PROP_BETA) + 2*x[:,1] + 4*x[:,2] - 2*x[:,3]\n",
    "#     true_resid = T - np.dot(x, TRUE_PROP_BETA)\n",
    "#     true_Q = norm.pdf( T - np.dot(x, TRUE_PROP_BETA), loc = 0, scale = T_SIG )\n",
    "#     y_sigma = 0.5\n",
    "#     white_noise_coef = 5\n",
    "    \n",
    "#     clf = LinearRegression(); clf.fit(x, T)\n",
    "#     y_hat = clf.predict(x)\n",
    "#     Y = np.zeros(n)\n",
    "#     for i in range(n): \n",
    "#         Y[i] = T[i]*beta_cons + np.dot(beta_x.T, x[i,:]) + T[i]*np.dot(beta_x_T.T, x[i,:]) + (T[i] - np.dot(beta_x_quad_T.T,x[i,:]))**2 #+ np.dot(beta_x_quad_T.T, (x[i,:]**2)*T[i]) + np.dot(beta_x_high_freq.T, np.sin(x[i,0:HIGH_FREQ_N]*FREQ)*T[i])\n",
    "#     Y += np.random.multivariate_normal(mean = np.zeros(n), cov=white_noise_coef * np.eye(n))\n",
    "#     # get pdf from residuals \n",
    "#     resid = Y - y_hat\n",
    "#     # get norm pdf \n",
    "#     Q = norm.pdf(resid, loc = np.mean(resid), scale=np.std(resid))\n",
    "#     T = T.flatten()\n",
    "#     return [x, T, Y, true_Q, clf]\n",
    "\n",
    "# [x_full, T_full, Y_full, true_Q_full, clf] = generate_data(mu_x, sigma_x, n, beta_cons, beta_x, beta_x_T)\n",
    "\n",
    "# #compute real risk \n",
    "# print np.mean( real_risk(T_full, beta_cons, beta_x, beta_x_T, beta_x_quad_T, x_full))\n",
    "\n",
    "# plt.hist(Y_full); plt.title('Y')\n",
    "# plt.figure()\n",
    "# plt.title('T')\n",
    "# plt.hist(T_full)\n",
    "# Q = true_Q_full\n",
    "# plt.figure()\n",
    "# plt.hist(true_Q_full)"
   ]
  },
  {
   "cell_type": "markdown",
   "metadata": {},
   "source": [
    "## Simpler synthetic example"
   ]
  },
  {
   "cell_type": "code",
   "execution_count": 3,
   "metadata": {},
   "outputs": [
    {
     "name": "stdout",
     "output_type": "stream",
     "text": [
      "[1.04262406 0.84193477]\n",
      "(700, 2)\n",
      "xshape\n",
      "(700, 2)\n",
      "xshape\n",
      "1.2423927788694011\n"
     ]
    },
    {
     "data": {
      "text/plain": [
       "(array([ 24.,  36.,  39.,  42.,  43.,  43.,  67.,  76.,  88., 242.]),\n",
       " array([1.94517234e-05, 9.99094057e-03, 1.99624294e-02, 2.99339182e-02,\n",
       "        3.99054071e-02, 4.98768959e-02, 5.98483848e-02, 6.98198736e-02,\n",
       "        7.97913625e-02, 8.97628513e-02, 9.97343401e-02]),\n",
       " <a list of 10 Patch objects>)"
      ]
     },
     "execution_count": 3,
     "metadata": {},
     "output_type": "execute_result"
    },
    {
     "data": {
      "image/png": "[encoded data removed]",
      "text/plain": [
       "<matplotlib.figure.Figure at 0x114f40d50>"
      ]
     },
     "metadata": {},
     "output_type": "display_data"
    },
    {
     "data": {
      "image/png": "[encoded data removed]",
      "text/plain": [
       "<matplotlib.figure.Figure at 0x10bfc8590>"
      ]
     },
     "metadata": {},
     "output_type": "display_data"
    },
    {
     "data": {
      "image/png": "[encoded data removed]",
      "text/plain": [
       "<matplotlib.figure.Figure at 0x1185003d0>"
      ]
     },
     "metadata": {},
     "output_type": "display_data"
    }
   ],
   "source": [
    "np.random.seed(2)\n",
    "\n",
    "d = 2  # dimension of x \n",
    "n = 700; \n",
    "mu_x = np.zeros(d); \n",
    "sigma_x = np.random.normal(size = (d,1))\n",
    "sigma_x += np.abs(np.min(sigma_x))+0.5\n",
    "sigma_x = np.multiply(sigma_x, np.eye(d))\n",
    "sigma_x /= 2# normalize covariances a little bit \n",
    "\n",
    "W = 1.5 #treatment effect\n",
    "# interact_x = 2\n",
    "white_noise_coef = 0.1\n",
    "\n",
    "# generate propensity model \n",
    "def real_prop(x, beta_prop): \n",
    "    T_SIG = 5\n",
    "    if len(x.shape) > 1: \n",
    "        n= x.shape[1]\n",
    "    else:\n",
    "        n= len(x)\n",
    "    return np.dot(x, beta_prop) + np.random.normal(size = (n,1))*T_SIG\n",
    "    # T is normally distributed conditional on covariates \n",
    "    \n",
    "# coefficient of treatment effect\n",
    "beta_cons = -5\n",
    "beta_x = np.random.normal(size = (d,1))\n",
    "# interaction term with treatment \n",
    "beta_x_T = np.random.normal(size = (d,1))*1.5\n",
    "FREQ = 20 \n",
    "beta_x_quad_T = np.random.normal(size = (d,1))*0.2\n",
    "\n",
    "TRUE_PROP_BETA = np.asarray(beta_x_quad_T + np.random.normal( loc= np.ones((d,1))*2, size = (d,1))).flatten()\n",
    "# print TRUE_PROP_BETA\n",
    "\n",
    "def real_risk(T, beta_cons, beta_x, beta_x_T, beta_x_quad_T, x):    \n",
    "    n = len(T); risk = np.zeros(n)\n",
    "    for i in range(len(T)): \n",
    "        risk[i] = -5 + np.abs(T[i])\n",
    "        if x[i,0] > 0 and x[i,1] > 0: \n",
    "            risk[i] = (np.abs(T[i] - x[i,0]))**1.5 #- (np.abs(np.dot(x[i,:],beta_x_quad_T)))**1.5\n",
    "#             risk[i] = T[i]*beta_cons + np.dot(beta_x.T, x[i,:]) + np.dot(beta_x_T.T, x[i,:]*T[i]) + (T[i]-np.dot(beta_x_quad_T.T,x[i,:]))**2#+ np.dot(beta_x_quad_T.T, (x[i,:]**2)*T[i]) + np.dot(beta_x_high_freq.T, np.sin(x[i,0:HIGH_FREQ_N]*FREQ)*T[i])\n",
    "    return risk\n",
    "\n",
    "T_SIG = 4\n",
    "beta_x_quad_T = np.asarray( [1,2] )\n",
    "def generate_data(mu_x, sigma_x_mat, n, beta_x_quad_T, unconfounded=False): \n",
    "    x = np.random.uniform( low = -2,high=2, size = [n,len(mu_x )] )\n",
    "\t#     x = np.random.multivariate_normal(mean = mu_x, cov= sigma_x_mat, size = n ) \n",
    "    # print x.shape \n",
    "    # print \"xshape\"\n",
    "    T = np.random.normal(0, T_SIG, n) + np.dot(x, beta_x_quad_T) \n",
    "    true_resid = T - np.dot(x, beta_x_quad_T); true_Q = norm.pdf( T - np.dot(x, beta_x_quad_T), loc = 0, scale = T_SIG ); y_sigma = 0.5; white_noise_coef = 5\n",
    "    clf = LinearRegression(); clf.fit(x, T); y_hat = clf.predict(x); Y = np.zeros(n)\n",
    "    Y = real_risk(T, beta_cons, beta_x, beta_x_T, beta_x_quad_T, x)\n",
    "    return [x, T, Y, true_Q, clf]\n",
    "\n",
    "[x_full, T_full, Y_full, true_Q_full, clf] = generate_data(mu_x, sigma_x, n, beta_x_quad_T)\n",
    "\n",
    "[x_full, T_full, Y_full, true_Q_full, clf] = generate_data(mu_x, sigma_x, n, beta_x_quad_T,unconfounded=True)\n",
    "\n",
    "\n",
    "#compute real risk \n",
    "# print np.mean( real_risk(T_full, beta_cons, beta_x, beta_x_T, beta_x_quad_T, x_full))\n",
    "\n",
    "plt.hist(Y_full); plt.title('Y'); plt.figure(); plt.title('T'); plt.hist(T_full); Q = true_Q_full; plt.figure(); plt.hist(true_Q_full)\n"
   ]
  },
  {
   "cell_type": "markdown",
   "metadata": {},
   "source": [
    "## train/test split and scale data"
   ]
  },
  {
   "cell_type": "code",
   "execution_count": 7,
   "metadata": {
    "collapsed": true
   },
   "outputs": [],
   "source": [
    "n = 300\n",
    "x_test = x_full[n:]; Y_test = Y_full[n:]; T_test = T_full[n:]; true_Q_test = true_Q_full[n:]\n",
    "x = x_full[0:n]; Y = Y_full[0:n];T = T_full[0:n]; true_Q = true_Q_full[0:n]\n",
    "\n",
    "x_ = x - np.mean(x) #demean data\n",
    "mean_x = np.mean(x) \n",
    "n = len(T)\n",
    "X_T = np.hstack([ x,T.reshape([n,1])])\n",
    "T_ = T.reshape([n,1])\n",
    "\n",
    "from sklearn import preprocessing\n",
    "scaler = preprocessing.StandardScaler().fit(X_T)\n",
    "X_T_scaled = scaler.transform(X_T)  "
   ]
  },
  {
   "cell_type": "markdown",
   "metadata": {},
   "source": [
    "### Use these variants for continuous policy evaluation comparison "
   ]
  },
  {
   "cell_type": "code",
   "execution_count": 8,
   "metadata": {
    "collapsed": true
   },
   "outputs": [],
   "source": [
    "## given Known propensities\n",
    "def off_policy_evaluation_known_Q(**params):\n",
    "    \"\"\"\n",
    "    Takes in a choice of kernel and dictionary of parameters and data required for evaluation\n",
    "    tau is a vector of treatment values (assumed given)\n",
    "    If y_samp, T_samp is present, use that instead. \n",
    "    \"\"\"\n",
    "    [loss, norm_sum] = off_pol_estimator_known_Q(**params)\n",
    "    h = params['h']\n",
    "    n = params['n']\n",
    "    return loss/(norm_sum*1.0*h*n)\n",
    "\n",
    "def off_pol_estimator_known_Q(**params): \n",
    "    THRESH = params['threshold']\n",
    "    y_out = params['y']; x = params['x']; h = params['h'];n = params['n']; t_lo = params['t_lo'];  t_hi = params['t_hi']\n",
    "    kernel = params['kernel_func'];kernel_int =  params['kernel_int_func']\n",
    "    Q = params['Q_known']; \n",
    "    if ('y_samp' in params.keys()):\n",
    "        y_out = params['y_samp']\n",
    "    if ('T_samp' in params.keys()): \n",
    "        T = params['T_samp']\n",
    "    else: \n",
    "        T = params['T']\n",
    "    if ('x_samp' in params.keys()):\n",
    "        x = params['x_samp']\n",
    "\n",
    "    BMI_IND = params.get('BMI_IND') # propensity score for warfarin data evaluations \n",
    "    if (params.get('DATA_TYPE') == 'warfarin'): \n",
    "        x = params['x'][:,BMI_IND]\n",
    "\n",
    "    loss = 0\n",
    "    tau = params['tau']\n",
    "    clip_tau = np.clip(tau, t_lo, t_hi)\n",
    "    Qs = np.zeros(n)\n",
    "    for i in np.arange(n): \n",
    "        Q_i = Q[i]\n",
    "        if (abs(clip_tau[i] - t_lo) <= h):\n",
    "            alpha = kernel_int((t_lo-clip_tau[i])/h, 1)\n",
    "        elif (abs(clip_tau[i] - t_hi) <= h):\n",
    "            alpha = kernel_int(-1,  (t_hi - clip_tau[i])/h )\n",
    "        else:\n",
    "            alpha = 1\n",
    "        Qs[i] = (1.0/h)*kernel( (clip_tau[i] - T[i])/h )/max(Q_i,THRESH)\n",
    "        loss += kernel( (clip_tau[i] - T[i])/h )*1.0 * y_out[i]/max(Q_i,THRESH) * 1.0/alpha\n",
    "    norm_sum = np.mean(np.maximum(Qs,THRESH*np.ones(n)))\n",
    "    return [loss, norm_sum]"
   ]
  },
  {
   "cell_type": "markdown",
   "metadata": {},
   "source": [
    "## unit test that continuous policy evaluation works"
   ]
  },
  {
   "cell_type": "code",
   "execution_count": 10,
   "metadata": {},
   "outputs": [
    {
     "data": {
      "text/plain": [
       "29.92270098541192"
      ]
     },
     "execution_count": 10,
     "metadata": {},
     "output_type": "execute_result"
    }
   ],
   "source": [
    "from scipy.stats import norm\n",
    "\n",
    "t_lo = np.min(X_T_scaled[:,d])\n",
    "t_hi = np.max(X_T_scaled[:,d])\n",
    "lr = LinearRegression(); lr.fit(X_T_scaled[:,0:d], X_T_scaled[:,d])\n",
    "T_hat = lr.predict(X_T_scaled[:,0:d]); #beta_T_gps = np.dot(x[trainind,:],lr.coef_)\n",
    "resid = X_T_scaled[:,d] - T_hat\n",
    "# Assume normal noise\n",
    "mu_resid = np.mean(resid); sigma_resid = np.std(resid)\n",
    "def norm_T_Q_est(x,t,t_lo,t_hi): \n",
    "    return norm.pdf( t - np.dot(x, lr.coef_), loc =  mu_resid, scale = sigma_resid )\n",
    "\n",
    "n = len(Y)\n",
    "data = { 'n': n, 'y': Y,'Q': norm_T_Q_est,'x_full': X_T_scaled[:,0:d], 'x': X_T_scaled[:,0:d],'x_samp': X_T_scaled[:,0:d], 'T_samp': X_T_scaled[:,d], 'd': d, 'T': X_T_scaled[:,d],'t_lo': t_lo ,'t_hi': t_hi  }\n",
    "data['kernel_int_func'] = epanechnikov_int\n",
    "data['kernel_func'] = epanechnikov_kernel\n",
    "data['sgn'] = 1; data['threshold'] = 0.03\n",
    "data['h'] = 1.2; data['Q_known'] = true_Q\n",
    "# assign tau \n",
    "# standardized or not? \n",
    "data['tau'] = X_T_scaled[:,d] +2\n",
    "\n",
    "off_policy_evaluation_known_Q(**data)"
   ]
  },
  {
   "cell_type": "markdown",
   "metadata": {},
   "source": [
    "### helper function to evaluate different methods"
   ]
  },
  {
   "cell_type": "code",
   "execution_count": 545,
   "metadata": {
    "scrolled": true
   },
   "outputs": [
    {
     "data": {
      "application/javascript": "$(document).ready(\n    function() {\n        function appendUniqueDiv(){\n            // append a div with our uuid so we can check that it's already\n            // been sent and avoid duplicates on page reload\n            var notifiedDiv = document.createElement(\"div\")\n            notifiedDiv.id = \"0893a3a7-d02a-4ad9-aaa7-5bed9a750f4d\"\n            element.append(notifiedDiv)\n        }\n\n        // only send notifications if the pageload is complete; this will\n        // help stop extra notifications when a saved notebook is loaded,\n        // which during testing gives us state \"interactive\", not \"complete\"\n        if (document.readyState === 'complete') {\n            // check for the div that signifies that the notification\n            // was already sent\n            if (document.getElementById(\"0893a3a7-d02a-4ad9-aaa7-5bed9a750f4d\") === null) {\n                var notificationPayload = {\"body\": \"Cell execution has finished!\", \"requireInteraction\": false, \"icon\": \"/static/base/images/favicon.ico\"};\n                if (Notification.permission !== 'denied') {\n                    if (Notification.permission !== 'granted') { \n                        Notification.requestPermission(function (permission) {\n                            if(!('permission' in Notification)) {\n                                Notification.permission = permission\n                            }\n                        })\n                    }\n                    if (Notification.permission === 'granted') {\n                    var notification = new Notification(\"Jupyter Notebook\", notificationPayload)\n                    appendUniqueDiv()\n                    notification.onclick = function () {\n                        window.focus();\n                        this.close();\n                        };\n                    } \n                }     \n            }\n        }\n    }\n)\n",
      "text/plain": [
       "<IPython.core.display.Javascript object>"
      ]
     },
     "metadata": {},
     "output_type": "display_data"
    }
   ],
   "source": [
    "%%notify\n",
    "def get_mse(data, mean_risk): \n",
    "    return np.mean((data - mean_risk)**2) + (np.mean(data) - mean_risk)**2 # variance + bias \n",
    "\n",
    "'''\n",
    "POL_X is input wrt standardized treatment space \n",
    "needs to be scaled back to normal to evaluate outcome model \n",
    "Assume POL_X is unit normalized!\n",
    "'''\n",
    "def eval_possibilities(POL_X, x_T_test_sc, x_test, Y_test, Q, Y_mean_old): \n",
    "    print \"true-in-sample counterfactuals: \"\n",
    "    true_risk = np.mean(real_risk((POL_X*np.std(T))+np.mean(T), beta_cons, beta_x, beta_x_T, beta_x_quad_T, x_test))\n",
    "#     true_risk = np.mean( real_risk((POL_X*np.std(T_))+np.mean(T_), beta_cons, beta_x, beta_x_T, beta_x_quad_T, x_test))\n",
    "    print true_risk\n",
    "    n = len(Y_test); POL_X=POL_X.reshape([n,1])\n",
    "    T_sc_test = x_T_test_sc[:,d].reshape([n,1]); \n",
    "    X_test_pi = np.hstack([ x_T_test_sc[:,0:d], POL_X ])\n",
    "    K_T_pi = k_T(T_sc_test, POL_X)\n",
    "    K_pi_pi = k_T(POL_X, POL_X)\n",
    "    K_XT_XT = k_XT( x_T_test_sc, x_T_test_sc ) + np.eye(n)*10e-3\n",
    "\n",
    "    print \"direct method: \"\n",
    "    dm = np.mean(gp.predict(X_test_pi)) + Y_mean_old # add the empirical mean! \n",
    "    print dm\n",
    "    test_params = {'x_sc': x_T_test_sc[:,0:d], 'T_sc': x_T_test_sc[:,d], 'k_T': k_T, 'k_XT': k_XT, 'k_X': k_X, 'X_pi': X_test_pi, 'K_T_T':K_T_T, 'K_T_pi': K_T_pi, 'K_pi_pi': K_pi_pi, 'K_XT_XT': K_XT_XT }\n",
    "    test_params['x_aug'] = np.hstack([x_T_test_sc[:,0:d], np.ones(n).reshape([n,1])])\n",
    "    test_params['pi'] = assignment_rule_2d\n",
    "    [val, test_wghts] = opt_wghts(POL_X, **test_params)\n",
    "    print \"prop. of strictly positive weights: \" + str(sum(test_wghts >0.001)*1.0 / n)\n",
    "    \n",
    "    pol_eval =  test_wghts.T * Y_test.reshape([n,1]) * 1.0/n \n",
    "    print \"weight-based evaluation: \"\n",
    "    print pol_eval + mean_x\n",
    "    print \"continuous off policy evaluator\"\n",
    "    data = { 'n': len(Y_test), 'y': Y_test,'Q': Q,'x_full': x_T_test_sc[:,0:d], 'x': x_T_test_sc[:,0:d],'x_samp': x_T_test_sc[:,0:d], 'T_samp': x_T_test_sc[:,d], 'd': d, 'T': x_T_test_sc[:,d],'t_lo': t_lo ,'t_hi': t_hi}\n",
    "    data['kernel_int_func'] = epanechnikov_int; data['kernel_func'] = epanechnikov_kernel; data['sgn'] = 1; data['threshold'] = 0.03\n",
    "    data['h'] = 1.2; data['Q_known'] = Q\n",
    "    data['tau'] = POL_X#*np.std(T))+np.mean(T)\n",
    "    \n",
    "    ope = off_policy_evaluation_known_Q(**data)\n",
    "    print ope\n",
    "    return [true_risk, dm, pol_eval, ope]"
   ]
  },
  {
   "cell_type": "code",
   "execution_count": 552,
   "metadata": {},
   "outputs": [
    {
     "data": {
      "text/plain": [
       "(300, 2)"
      ]
     },
     "execution_count": 552,
     "metadata": {},
     "output_type": "execute_result"
    }
   ],
   "source": [
    "x_sc.shape"
   ]
  },
  {
   "cell_type": "code",
   "execution_count": null,
   "metadata": {
    "collapsed": true
   },
   "outputs": [],
   "source": [
    "def get_pol(tht,**params): \n",
    "    n = params['x_sc'].shape[0]\n",
    "    POL_X = np.asarray( [ params['pi']( tht, params['x_sc'][i,:] ) for i in range(n) ] ).flatten().reshape([n,1]) ; \n",
    "    return POL_X\n",
    "\n",
    "n = x_test.shape[0]\n",
    "test_n = len(Y_test); N_REPS = 10\n",
    "# thts = np.asarray([ [1,0,0], [0,1,0], [.5,.5,1], [0,0,2], [2,0,3] ])\n",
    "\n",
    "\n",
    "def eval_over_reps(thts, N_REPS, POL_FN): \n",
    "    n_pols = 4 # number of different evaluation methods \n",
    "    risks = np.zeros([len(test_range), n_pols, N_REPS])\n",
    "    for k in range(N_REPS):\n",
    "        n=400; \n",
    "        [x_test, T_test, Y_test, true_Q, clf] = generate_data(mu_x, sigma_x, n, beta_x_quad_T)\n",
    "        X_test_T = np.hstack([ x_test,T_test.reshape([n,1])])\n",
    "        x_T_test_sc = scaler.transform(X_test_T)   ; T_sc_test = x_T_test_sc[:,d].reshape([n,1])\n",
    "        POL_X = np.dot(x_T_test_sc[:,0:d], beta_x_quad_T).reshape([n,1]); X_test_pi = np.hstack([ x_T_test_sc[:,0:d], POL_X ])\n",
    "        K_T_pi = k_T(T_sc_test, POL_X); K_T_T = k_T(T_sc_test, T_sc_test); K_pi_pi = k_T(POL_X, POL_X); K_XT_XT = k_XT( x_T_test_sc, x_T_test_sc ) + np.eye(n)*10e-3\n",
    "\n",
    "        test_params = {'x_sc': x_T_test_sc[:,0:d],'n':n, 'T_sc': x_T_test_sc[:,d], 'k_T': k_T, 'k_XT': k_XT, 'k_X': k_X, 'X_pi': X_test_pi, 'K_T_T':K_T_T, 'K_T_pi': K_T_pi, 'K_pi_pi': K_pi_pi, 'K_XT_XT': K_XT_XT }\n",
    "        test_params['pi'] = assignment_rule_2d\n",
    "\n",
    "        for (ind, test_t) in enumerate(test_range): \n",
    "            print '-------t------------'\n",
    "            print test_t\n",
    "            print '---------'\n",
    "            #(np.ones(test_n)*test_t)*np.std(T)+np.mean(T)\n",
    "            pol = get_pol(thts[ind,:], **test_params)\n",
    "            # evaluate policy projected to scaled space \n",
    "            risks[ind,:, k] = eval_possibilities( (pol-np.mean(T))/np.std(T), x_T_test_sc, x_test, Y_test, true_Q, np.mean(Y) )\n",
    "    return risks\n",
    "\n",
    "\n",
    "risks = eval_over_reps( thts, N_REPS, get_pol )"
   ]
  },
  {
   "cell_type": "code",
   "execution_count": 551,
   "metadata": {
    "scrolled": true
   },
   "outputs": [
    {
     "name": "stdout",
     "output_type": "stream",
     "text": [
      "-------t------------\n",
      "-0.2\n",
      "---------\n",
      "true-in-sample counterfactuals: \n",
      "2.57469696802\n",
      "direct method: \n",
      "2.36644618097\n",
      "prop. of strictly positive weights: [[ 0.3575]]\n",
      "weight-based evaluation: \n",
      "[[ 1.09024674]]\n",
      "continuous off policy evaluator\n",
      "[ 0.23957388]\n",
      "-------t------------\n",
      "-0.1\n",
      "---------\n",
      "true-in-sample counterfactuals: \n",
      "-1.41776786459\n",
      "direct method: \n",
      "-1.41513931895\n",
      "prop. of strictly positive weights: [[ 0.2]]\n",
      "weight-based evaluation: \n",
      "[[-1.83435438]]\n",
      "continuous off policy evaluator\n",
      "[-0.96295469]\n",
      "-------t------------\n",
      "0.0\n",
      "---------\n",
      "true-in-sample counterfactuals: \n",
      "-3.00004517945\n",
      "direct method: \n",
      "-2.70574447571\n",
      "prop. of strictly positive weights: [[ 0.2775]]\n",
      "weight-based evaluation: \n",
      "[[-3.0313785]]\n",
      "continuous off policy evaluator\n",
      "[-1.11988048]\n",
      "-------t------------\n",
      "0.1\n",
      "---------\n",
      "true-in-sample counterfactuals: \n",
      "0.0773798099922\n",
      "direct method: \n",
      "-0.730489219331\n",
      "prop. of strictly positive weights: [[ 0.3425]]\n",
      "weight-based evaluation: \n",
      "[[ 0.40965942]]\n",
      "continuous off policy evaluator\n",
      "[ 0.3345952]\n",
      "-------t------------\n",
      "0.2\n",
      "---------\n",
      "true-in-sample counterfactuals: \n",
      "4.0899116162\n",
      "direct method: \n",
      "3.47468214519\n",
      "prop. of strictly positive weights: [[ 0.555]]\n",
      "weight-based evaluation: \n",
      "[[ 5.0375693]]\n",
      "continuous off policy evaluator\n",
      "[ 3.69088536]\n"
     ]
    }
   ],
   "source": [
    "test_params = {'x_sc': x_T_test_sc[:,0:d], 'T_sc': x_T_test_sc[:,d], 'k_T': k_T, 'k_XT': k_XT, 'k_X': k_X, 'X_pi': X_test_pi, 'K_T_T':K_T_T, 'K_T_pi': K_T_pi, 'K_pi_pi': K_pi_pi, 'K_XT_XT': K_XT_XT }\n",
    "test_range = np.linspace(-.2,.2,5)\n",
    "n_pols = 4 \n",
    "test_n = len(Y_test)\n",
    "risks = np.zeros([len(test_range), n_pols])\n",
    "for (ind, test_t) in enumerate(test_range): \n",
    "    print '-------t------------'\n",
    "    print test_t\n",
    "    print '---------'\n",
    "    risks[ind,:] = eval_possibilities( (np.ones(test_n)*test_t)*np.std(T)+np.mean(T) , x_T_test_sc, x_test, Y_test,true_Q_test, np.mean(Y) )\n",
    "\n"
   ]
  },
  {
   "cell_type": "code",
   "execution_count": null,
   "metadata": {
    "collapsed": true
   },
   "outputs": [],
   "source": [
    "eval_possibilities(np.zeros(n), x_T_test_sc, x_test, Y_test)"
   ]
  },
  {
   "cell_type": "code",
   "execution_count": null,
   "metadata": {
    "collapsed": true
   },
   "outputs": [],
   "source": [
    "eval_possibilities(np.ones(n), x_T_test_sc, x_test, Y_test)"
   ]
  },
  {
   "cell_type": "code",
   "execution_count": null,
   "metadata": {
    "collapsed": true
   },
   "outputs": [],
   "source": [
    "reps = 10\n",
    "vals = np.zeros([reps, 4])\n",
    "for i in range(reps): \n",
    "    print i \n",
    "    [true_risk, dm, wght_eval, ope] = eval_possibilities(np.dot(x_T_test_sc[:,0:d], np.random.uniform(size=d)) , x_T_test_sc, x_test, Y_test)\n",
    "    vals[0,:] = [true_risk, dm, wght_eval, ope]\n"
   ]
  },
  {
   "cell_type": "code",
   "execution_count": null,
   "metadata": {
    "collapsed": true
   },
   "outputs": [],
   "source": [
    "np.dot(x_test,beta_x_quad_T)"
   ]
  }
 ],
 "metadata": {
  "kernelspec": {
   "display_name": "Python 2",
   "language": "python",
   "name": "python2"
  },
  "language_info": {
   "codemirror_mode": {
    "name": "ipython",
    "version": 2
   },
   "file_extension": ".py",
   "mimetype": "text/x-python",
   "name": "python",
   "nbconvert_exporter": "python",
   "pygments_lexer": "ipython2",
   "version": "2.7.13"
  }
 },
 "nbformat": 4,
 "nbformat_minor": 2
}
